{
 "cells": [
  {
   "cell_type": "code",
   "execution_count": 27,
   "metadata": {
    "ExecuteTime": {
     "end_time": "2019-06-07T04:01:34.107081Z",
     "start_time": "2019-06-07T04:01:34.100484Z"
    }
   },
   "outputs": [],
   "source": [
    "import jinja2\n",
    "import json\n",
    "import re\n",
    "import datetime\n",
    "from pathlib2 import Path\n",
    "import os "
   ]
  },
  {
   "cell_type": "code",
   "execution_count": 36,
   "metadata": {
    "ExecuteTime": {
     "end_time": "2019-06-07T04:19:29.463696Z",
     "start_time": "2019-06-07T04:19:29.454926Z"
    }
   },
   "outputs": [],
   "source": [
    "now = datetime.datetime.now()\n",
    "\n",
    "PROJECT_DIR = Path('.').resolve()\n",
    "TEMPLATE_PATH = PROJECT_DIR / 'templates'\n",
    "DATA_PATH = PROJECT_DIR / 'data'\n",
    "BUILD_PATH = PROJECT_DIR / 'cv'\n",
    "MYNAME = 'Tim Sainburg'"
   ]
  },
  {
   "cell_type": "code",
   "execution_count": 37,
   "metadata": {
    "ExecuteTime": {
     "end_time": "2019-06-07T04:19:29.621594Z",
     "start_time": "2019-06-07T04:19:29.597581Z"
    }
   },
   "outputs": [],
   "source": [
    "def load_data(json_glob):\n",
    "    def _ordinal_day(e):\n",
    "        return -datetime.date(\n",
    "            e.get('year', 1), e.get('month', 1), e.get('day', 1)).toordinal()\n",
    "    datas = []\n",
    "    for json_file in json_glob:\n",
    "        with open(json_file) as f:\n",
    "            data = json.load(f)\n",
    "            data = {k: sorted(v, key=_ordinal_day) for k, v in data.items()}\n",
    "            entries = list(data.values())[0]\n",
    "            for entry in entries:\n",
    "                # if the datetime is in the future, replace with (to appear)\n",
    "                if 'day' in entry and 'month' in entry and 'year' in entry:\n",
    "                    entry_time = datetime.datetime(\n",
    "                        entry['year'], entry['month'], entry['day'])\n",
    "                    if entry_time > now:\n",
    "                        entry['year'] = '{} (to appear)'.format(entry['year'])\n",
    "                # bold my name\n",
    "                if 'authors' in entry:\n",
    "                    entry['authors'] = re.sub(\n",
    "                        r'({})'.format(MYNAME), r'<b>\\1</b>', entry['authors'])\n",
    "            datas.append(data)\n",
    "\n",
    "    return dict((k, v) for d in datas for (k, v) in d.items())\n",
    "\n",
    "\n",
    "def compile_template(template_path, data, output_path):\n",
    "    env = jinja2.environment.Environment(\n",
    "        loader=jinja2.FileSystemLoader(template_path.parent.as_posix()))\n",
    "    template = env.get_template(template_path.name)\n",
    "\n",
    "    with open(output_path, 'w') as f:\n",
    "        f.write(template.render(**data))"
   ]
  },
  {
   "cell_type": "code",
   "execution_count": 38,
   "metadata": {
    "ExecuteTime": {
     "end_time": "2019-06-07T04:19:29.785677Z",
     "start_time": "2019-06-07T04:19:29.780384Z"
    }
   },
   "outputs": [],
   "source": [
    "test = Path('/mnt/cube/tsainbur/Projects/github_repos/curriculumvitae/templates/cv.tpl')"
   ]
  },
  {
   "cell_type": "code",
   "execution_count": 39,
   "metadata": {
    "ExecuteTime": {
     "end_time": "2019-06-07T04:19:30.013006Z",
     "start_time": "2019-06-07T04:19:29.881984Z"
    }
   },
   "outputs": [
    {
     "name": "stdout",
     "output_type": "stream",
     "text": [
      "/mnt/cube/tsainbur/Projects/github_repos/curriculumvitae/templates/cv_pelican.tpl\n",
      "/mnt/cube/tsainbur/Projects/github_repos/curriculumvitae/templates/cv.tpl\n"
     ]
    }
   ],
   "source": [
    "for template_file in list(TEMPLATE_PATH.glob('*.tpl')):\n",
    "    print(template_file)\n",
    "    compile_template(\n",
    "        template_file,\n",
    "        load_data(list(DATA_PATH.glob('*.json'))),\n",
    "        BUILD_PATH / '{}.html'.format(template_file.stem),\n",
    "    )"
   ]
  },
  {
   "cell_type": "code",
   "execution_count": null,
   "metadata": {},
   "outputs": [],
   "source": []
  },
  {
   "cell_type": "code",
   "execution_count": null,
   "metadata": {},
   "outputs": [],
   "source": []
  }
 ],
 "metadata": {
  "kernelspec": {
   "display_name": "Python 3",
   "language": "python",
   "name": "python3"
  },
  "language_info": {
   "codemirror_mode": {
    "name": "ipython",
    "version": 3
   },
   "file_extension": ".py",
   "mimetype": "text/x-python",
   "name": "python",
   "nbconvert_exporter": "python",
   "pygments_lexer": "ipython3",
   "version": "3.6.8"
  }
 },
 "nbformat": 4,
 "nbformat_minor": 2
}
